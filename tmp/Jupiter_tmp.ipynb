{
 "cells": [
  {
   "cell_type": "code",
   "execution_count": 3,
   "metadata": {
    "collapsed": true,
    "pycharm": {
     "name": "#%%\n"
    }
   },
   "outputs": [],
   "source": [
    "import pandas as pd\n",
    "import numpy as np"
   ]
  },
  {
   "cell_type": "code",
   "execution_count": 15,
   "outputs": [
    {
     "data": {
      "text/plain": "         a  c\n0     o_ne  0\n1     on_e  1\n2     t_wo  2\n3  th_ree_  3\n4   _tw_o_  4\n5      one  5\n6      six  6",
      "text/html": "<div>\n<style scoped>\n    .dataframe tbody tr th:only-of-type {\n        vertical-align: middle;\n    }\n\n    .dataframe tbody tr th {\n        vertical-align: top;\n    }\n\n    .dataframe thead th {\n        text-align: right;\n    }\n</style>\n<table border=\"1\" class=\"dataframe\">\n  <thead>\n    <tr style=\"text-align: right;\">\n      <th></th>\n      <th>a</th>\n      <th>c</th>\n    </tr>\n  </thead>\n  <tbody>\n    <tr>\n      <th>0</th>\n      <td>o_ne</td>\n      <td>0</td>\n    </tr>\n    <tr>\n      <th>1</th>\n      <td>on_e</td>\n      <td>1</td>\n    </tr>\n    <tr>\n      <th>2</th>\n      <td>t_wo</td>\n      <td>2</td>\n    </tr>\n    <tr>\n      <th>3</th>\n      <td>th_ree_</td>\n      <td>3</td>\n    </tr>\n    <tr>\n      <th>4</th>\n      <td>_tw_o_</td>\n      <td>4</td>\n    </tr>\n    <tr>\n      <th>5</th>\n      <td>one</td>\n      <td>5</td>\n    </tr>\n    <tr>\n      <th>6</th>\n      <td>six</td>\n      <td>6</td>\n    </tr>\n  </tbody>\n</table>\n</div>"
     },
     "execution_count": 15,
     "metadata": {},
     "output_type": "execute_result"
    }
   ],
   "source": [
    "dfb = pd.DataFrame({'a': ['o_ne', 'on_e', 't_wo', 'th_ree_', '_tw_o_', 'one', 'six'],\n",
    "                    'c': np.arange(7)})\n",
    "dfb"
   ],
   "metadata": {
    "collapsed": false,
    "pycharm": {
     "name": "#%%\n"
    }
   }
  },
  {
   "cell_type": "code",
   "execution_count": 16,
   "outputs": [
    {
     "data": {
      "text/plain": "       a  c\n0    one  0\n1    one  1\n2    two  2\n3  three  3\n4    two  4\n5    one  5\n6    six  6",
      "text/html": "<div>\n<style scoped>\n    .dataframe tbody tr th:only-of-type {\n        vertical-align: middle;\n    }\n\n    .dataframe tbody tr th {\n        vertical-align: top;\n    }\n\n    .dataframe thead th {\n        text-align: right;\n    }\n</style>\n<table border=\"1\" class=\"dataframe\">\n  <thead>\n    <tr style=\"text-align: right;\">\n      <th></th>\n      <th>a</th>\n      <th>c</th>\n    </tr>\n  </thead>\n  <tbody>\n    <tr>\n      <th>0</th>\n      <td>one</td>\n      <td>0</td>\n    </tr>\n    <tr>\n      <th>1</th>\n      <td>one</td>\n      <td>1</td>\n    </tr>\n    <tr>\n      <th>2</th>\n      <td>two</td>\n      <td>2</td>\n    </tr>\n    <tr>\n      <th>3</th>\n      <td>three</td>\n      <td>3</td>\n    </tr>\n    <tr>\n      <th>4</th>\n      <td>two</td>\n      <td>4</td>\n    </tr>\n    <tr>\n      <th>5</th>\n      <td>one</td>\n      <td>5</td>\n    </tr>\n    <tr>\n      <th>6</th>\n      <td>six</td>\n      <td>6</td>\n    </tr>\n  </tbody>\n</table>\n</div>"
     },
     "execution_count": 16,
     "metadata": {},
     "output_type": "execute_result"
    }
   ],
   "source": [
    "dfb['a'] = dfb['a'].apply(lambda x: x.replace('_', ''))\n",
    "dfb"
   ],
   "metadata": {
    "collapsed": false,
    "pycharm": {
     "name": "#%%\n"
    }
   }
  },
  {
   "cell_type": "code",
   "execution_count": 49,
   "outputs": [
    {
     "data": {
      "text/plain": "       a    c\n0    one  800\n1    one  801\n2    two  802\n3  three  803\n4    two  804\n5    one  805\n6    six  806",
      "text/html": "<div>\n<style scoped>\n    .dataframe tbody tr th:only-of-type {\n        vertical-align: middle;\n    }\n\n    .dataframe tbody tr th {\n        vertical-align: top;\n    }\n\n    .dataframe thead th {\n        text-align: right;\n    }\n</style>\n<table border=\"1\" class=\"dataframe\">\n  <thead>\n    <tr style=\"text-align: right;\">\n      <th></th>\n      <th>a</th>\n      <th>c</th>\n    </tr>\n  </thead>\n  <tbody>\n    <tr>\n      <th>0</th>\n      <td>one</td>\n      <td>800</td>\n    </tr>\n    <tr>\n      <th>1</th>\n      <td>one</td>\n      <td>801</td>\n    </tr>\n    <tr>\n      <th>2</th>\n      <td>two</td>\n      <td>802</td>\n    </tr>\n    <tr>\n      <th>3</th>\n      <td>three</td>\n      <td>803</td>\n    </tr>\n    <tr>\n      <th>4</th>\n      <td>two</td>\n      <td>804</td>\n    </tr>\n    <tr>\n      <th>5</th>\n      <td>one</td>\n      <td>805</td>\n    </tr>\n    <tr>\n      <th>6</th>\n      <td>six</td>\n      <td>806</td>\n    </tr>\n  </tbody>\n</table>\n</div>"
     },
     "execution_count": 49,
     "metadata": {},
     "output_type": "execute_result"
    }
   ],
   "source": [
    "dfb['c'] = dfb['c'].apply(lambda x:(x + 200))\n",
    "dfb"
   ],
   "metadata": {
    "collapsed": false,
    "pycharm": {
     "name": "#%%\n"
    }
   }
  },
  {
   "cell_type": "code",
   "execution_count": 54,
   "outputs": [
    {
     "data": {
      "text/plain": "0    800\n1    801\n2    802\n3    803\n4    804\n5    805\n6    806\nName: c, dtype: int64"
     },
     "execution_count": 54,
     "metadata": {},
     "output_type": "execute_result"
    }
   ],
   "source": [
    "dfb2 = dfb['c']\n",
    "dfb2"
   ],
   "metadata": {
    "collapsed": false,
    "pycharm": {
     "name": "#%%\n"
    }
   }
  },
  {
   "cell_type": "code",
   "execution_count": 47,
   "outputs": [
    {
     "data": {
      "text/plain": "0    600\n1    601\n2    602\n3    603\n4    604\n5    605\n6    606\nName: c, dtype: int64"
     },
     "execution_count": 47,
     "metadata": {},
     "output_type": "execute_result"
    }
   ],
   "source": [
    "dfb['c'].apply(lambda x:(x + 200))"
   ],
   "metadata": {
    "collapsed": false,
    "pycharm": {
     "name": "#%%\n"
    }
   }
  },
  {
   "cell_type": "code",
   "execution_count": 60,
   "outputs": [
    {
     "data": {
      "text/plain": "5    805\nName: c, dtype: int64"
     },
     "execution_count": 60,
     "metadata": {},
     "output_type": "execute_result"
    }
   ],
   "source": [
    "qq = dfb2[dfb2 == 805]\n",
    "qq"
   ],
   "metadata": {
    "collapsed": false,
    "pycharm": {
     "name": "#%%\n"
    }
   }
  },
  {
   "cell_type": "code",
   "execution_count": null,
   "outputs": [],
   "source": [
    "qq.to_list()\n"
   ],
   "metadata": {
    "collapsed": false,
    "pycharm": {
     "name": "#%%\n"
    }
   }
  },
  {
   "cell_type": "code",
   "execution_count": 31,
   "outputs": [
    {
     "data": {
      "text/plain": "    one          two       \n  first second first second\n0     a      b     c      d\n1     e      f     g      h\n2     i      j     k      l\n3     m      n     o      p",
      "text/html": "<div>\n<style scoped>\n    .dataframe tbody tr th:only-of-type {\n        vertical-align: middle;\n    }\n\n    .dataframe tbody tr th {\n        vertical-align: top;\n    }\n\n    .dataframe thead tr th {\n        text-align: left;\n    }\n</style>\n<table border=\"1\" class=\"dataframe\">\n  <thead>\n    <tr>\n      <th></th>\n      <th colspan=\"2\" halign=\"left\">one</th>\n      <th colspan=\"2\" halign=\"left\">two</th>\n    </tr>\n    <tr>\n      <th></th>\n      <th>first</th>\n      <th>second</th>\n      <th>first</th>\n      <th>second</th>\n    </tr>\n  </thead>\n  <tbody>\n    <tr>\n      <th>0</th>\n      <td>a</td>\n      <td>b</td>\n      <td>c</td>\n      <td>d</td>\n    </tr>\n    <tr>\n      <th>1</th>\n      <td>e</td>\n      <td>f</td>\n      <td>g</td>\n      <td>h</td>\n    </tr>\n    <tr>\n      <th>2</th>\n      <td>i</td>\n      <td>j</td>\n      <td>k</td>\n      <td>l</td>\n    </tr>\n    <tr>\n      <th>3</th>\n      <td>m</td>\n      <td>n</td>\n      <td>o</td>\n      <td>p</td>\n    </tr>\n  </tbody>\n</table>\n</div>"
     },
     "execution_count": 31,
     "metadata": {},
     "output_type": "execute_result"
    }
   ],
   "source": [
    "# двойной индекс\n",
    "dfmi = pd.DataFrame([list('abcd'),\n",
    "                     list('efgh'),\n",
    "                     list('ijkl'),\n",
    "                     list('mnop')],\n",
    "                    columns=pd.MultiIndex.from_product([['one', 'two'], ['first', 'second']]))\n",
    "dfmi"
   ],
   "metadata": {
    "collapsed": false,
    "pycharm": {
     "name": "#%%\n"
    }
   }
  },
  {
   "cell_type": "code",
   "execution_count": 28,
   "outputs": [
    {
     "data": {
      "text/plain": "0    b\n1    f\n2    j\n3    n\nName: second, dtype: object"
     },
     "execution_count": 28,
     "metadata": {},
     "output_type": "execute_result"
    }
   ],
   "source": [
    "dfmi['one']['second']"
   ],
   "metadata": {
    "collapsed": false,
    "pycharm": {
     "name": "#%%\n"
    }
   }
  },
  {
   "cell_type": "code",
   "execution_count": 30,
   "outputs": [
    {
     "data": {
      "text/plain": "0    b\n1    f\n2    j\n3    n\nName: (one, second), dtype: object"
     },
     "execution_count": 30,
     "metadata": {},
     "output_type": "execute_result"
    }
   ],
   "source": [
    "dfmi.loc[:, ('one', 'second')]"
   ],
   "metadata": {
    "collapsed": false,
    "pycharm": {
     "name": "#%%\n"
    }
   }
  },
  {
   "cell_type": "code",
   "execution_count": 62,
   "outputs": [
    {
     "data": {
      "text/plain": "['dsf_fsdf', '_dfsd_fgg_']"
     },
     "execution_count": 62,
     "metadata": {},
     "output_type": "execute_result"
    }
   ],
   "source": [
    "\n",
    "a = ['dsf_fsdf', '_dfsd_fgg_']\n",
    "a"
   ],
   "metadata": {
    "collapsed": false,
    "pycharm": {
     "name": "#%%\n"
    }
   }
  },
  {
   "cell_type": "code",
   "execution_count": 1,
   "outputs": [
    {
     "ename": "NameError",
     "evalue": "name 'pd' is not defined",
     "output_type": "error",
     "traceback": [
      "\u001B[1;31m---------------------------------------------------------------------------\u001B[0m",
      "\u001B[1;31mNameError\u001B[0m                                 Traceback (most recent call last)",
      "\u001B[1;32m<ipython-input-1-6fd8870389c2>\u001B[0m in \u001B[0;36m<module>\u001B[1;34m\u001B[0m\n\u001B[0;32m      1\u001B[0m \u001B[1;32mfrom\u001B[0m \u001B[0mmodule\u001B[0m\u001B[1;33m.\u001B[0m\u001B[0mglobals\u001B[0m \u001B[1;32mimport\u001B[0m \u001B[1;33m*\u001B[0m\u001B[1;33m\u001B[0m\u001B[1;33m\u001B[0m\u001B[0m\n\u001B[0;32m      2\u001B[0m \u001B[0msheet_name\u001B[0m \u001B[1;33m=\u001B[0m \u001B[1;34m'ПИФ'\u001B[0m\u001B[1;33m\u001B[0m\u001B[1;33m\u001B[0m\u001B[0m\n\u001B[1;32m----> 3\u001B[1;33m \u001B[0mdf_pifID\u001B[0m \u001B[1;33m=\u001B[0m \u001B[0mpd\u001B[0m\u001B[1;33m.\u001B[0m\u001B[0mread_excel\u001B[0m\u001B[1;33m(\u001B[0m\u001B[0mdir_shablon\u001B[0m\u001B[1;33m+\u001B[0m\u001B[0mfileID\u001B[0m\u001B[1;33m,\u001B[0m \u001B[0msheet_name\u001B[0m\u001B[1;33m=\u001B[0m\u001B[0msheet_name\u001B[0m\u001B[1;33m,\u001B[0m \u001B[0mheader\u001B[0m\u001B[1;33m=\u001B[0m\u001B[1;32mNone\u001B[0m\u001B[1;33m)\u001B[0m\u001B[1;33m\u001B[0m\u001B[1;33m\u001B[0m\u001B[0m\n\u001B[0m\u001B[0;32m      4\u001B[0m \u001B[0mpifID\u001B[0m \u001B[1;33m=\u001B[0m \u001B[0mlist\u001B[0m \u001B[1;33m(\u001B[0m\u001B[0mdf_pifID\u001B[0m\u001B[1;33m[\u001B[0m\u001B[1;36m0\u001B[0m\u001B[1;33m]\u001B[0m\u001B[1;33m.\u001B[0m\u001B[0mto_list\u001B[0m\u001B[1;33m(\u001B[0m\u001B[1;33m)\u001B[0m\u001B[1;33m)\u001B[0m\u001B[1;33m[\u001B[0m\u001B[1;36m1\u001B[0m\u001B[1;33m:\u001B[0m\u001B[1;33m]\u001B[0m\u001B[1;33m\u001B[0m\u001B[1;33m\u001B[0m\u001B[0m\n\u001B[0;32m      5\u001B[0m \u001B[1;33m\u001B[0m\u001B[0m\n",
      "\u001B[1;31mNameError\u001B[0m: name 'pd' is not defined"
     ]
    }
   ],
   "source": [
    "from module.globals import *\n",
    "sheet_name = 'ПИФ'\n",
    "df_pifID = pd.read_excel(dir_shablon+fileID, sheet_name=sheet_name, header=None)\n",
    "pifID = list (df_pifID[0].to_list())[1:]"
   ],
   "metadata": {
    "collapsed": false,
    "pycharm": {
     "name": "#%%\n"
    }
   }
  },
  {
   "cell_type": "code",
   "execution_count": 21,
   "outputs": [],
   "source": [
    "from module.globals import *\n",
    "# Загрузка файла с Идентификаторами\n",
    "df_identifier = pd.read_excel(dir_shablon + fileID,\n",
    "                              sheet_name=None,\n",
    "                              index_col=None,\n",
    "                              header=None)\n"
   ],
   "metadata": {
    "collapsed": false,
    "pycharm": {
     "name": "#%%\n"
    }
   }
  },
  {
   "cell_type": "code",
   "execution_count": 12,
   "outputs": [
    {
     "data": {
      "text/plain": "28"
     },
     "execution_count": 12,
     "metadata": {},
     "output_type": "execute_result"
    }
   ],
   "source": [
    "len(df_identifier)"
   ],
   "metadata": {
    "collapsed": false,
    "pycharm": {
     "name": "#%%\n"
    }
   }
  },
  {
   "cell_type": "code",
   "execution_count": 14,
   "outputs": [
    {
     "data": {
      "text/plain": "True"
     },
     "execution_count": 14,
     "metadata": {},
     "output_type": "execute_result"
    }
   ],
   "source": [
    "'Лист1' in df_identifier"
   ],
   "metadata": {
    "collapsed": false,
    "pycharm": {
     "name": "#%%\n"
    }
   }
  },
  {
   "cell_type": "code",
   "execution_count": 20,
   "outputs": [
    {
     "data": {
      "text/plain": "{'Банковский счет',\n 'Биржа',\n 'Вексель',\n 'Выпуск ценных бумаг',\n 'Дебитор',\n 'Денежн.требования',\n 'Депозит',\n 'Договор',\n 'Документ',\n 'Драгоц.металл',\n 'Иное имущество',\n 'Иностр.депозитарн.расписки',\n 'Ипотеч.сертификат участия',\n 'Кредит.организация',\n 'Кредитор',\n 'Лист1',\n 'Объект недвижимости',\n 'Осн.возник. дебит.задолж',\n 'Осн.возник.кредитор.задолж',\n 'ПИФ',\n 'Рос.депозитарн.расписки',\n 'Требов.к кредитн.организации ',\n 'УК АИФ ПИФ',\n 'ФИО',\n 'Физ.лица',\n 'Худож.ценности',\n 'Ценные бумаги',\n 'Юр.лица'}"
     },
     "execution_count": 20,
     "metadata": {},
     "output_type": "execute_result"
    }
   ],
   "source": [
    "set (df_identifier.keys())\n"
   ],
   "metadata": {
    "collapsed": false,
    "pycharm": {
     "name": "#%%\n"
    }
   }
  },
  {
   "cell_type": "code",
   "execution_count": 1,
   "outputs": [],
   "source": [
    "import openpyxl"
   ],
   "metadata": {
    "collapsed": false,
    "pycharm": {
     "name": "#%%\n"
    }
   }
  },
  {
   "cell_type": "code",
   "execution_count": 41,
   "outputs": [
    {
     "data": {
      "text/plain": "'тип_счета'"
     },
     "execution_count": 41,
     "metadata": {},
     "output_type": "execute_result"
    }
   ],
   "source": [
    "wb = openpyxl.load_workbook('./tmp/пиф_id.xlsx')\n",
    "cell = wb['списки']['A1'].value\n",
    "cell"
   ],
   "metadata": {
    "collapsed": false,
    "pycharm": {
     "name": "#%%\n"
    }
   }
  },
  {
   "cell_type": "code",
   "execution_count": 60,
   "outputs": [
    {
     "name": "stdout",
     "output_type": "stream",
     "text": [
      "<openpyxl.worksheet.table.Table object>\n",
      "Parameters:\n",
      "id=1, name='Тип_счета', displayName='Тип_счета', comment=None, ref='A1:A4', tableType=None, headerRowCount=1, insertRow=None, insertRowShift=None, totalsRowCount=None, totalsRowShown=False, published=None, headerRowDxfId=None, dataDxfId=None, totalsRowDxfId=None, headerRowBorderDxfId=14, tableBorderDxfId=13, totalsRowBorderDxfId=12, headerRowCellStyle=None, dataCellStyle=None, totalsRowCellStyle=None, connectionId=None, autoFilter=<openpyxl.worksheet.filters.AutoFilter object>\n",
      "Parameters:\n",
      "ref='A1:A4', filterColumn=[], sortState=None, sortState=None, tableColumns=[<openpyxl.worksheet.table.TableColumn object>\n",
      "Parameters:\n",
      "id=1, uniqueName=None, name='тип_счета', totalsRowFunction=None, totalsRowLabel=None, queryTableFieldId=None, headerRowDxfId=None, dataDxfId=11, totalsRowDxfId=None, headerRowCellStyle=None, dataCellStyle=None, totalsRowCellStyle=None, calculatedColumnFormula=None, totalsRowFormula=None, xmlColumnPr=None, extLst=None], tableStyleInfo=<openpyxl.worksheet.table.TableStyleInfo object>\n",
      "Parameters:\n",
      "name='TableStyleDark6', showFirstColumn=False, showLastColumn=False, showRowStripes=True, showColumnStripes=False\n",
      " : Тип_счета\n",
      "   -  name = Тип_счета\n",
      "   -  type = n/a\n",
      "   - range = A1:A4\n",
      "   - #cols = 1\n",
      "     : тип_счета\n",
      "<openpyxl.worksheet.table.Table object>\n",
      "Parameters:\n",
      "id=2, name='СпецДеп', displayName='СпецДеп', comment=None, ref='A7:C10', tableType=None, headerRowCount=1, insertRow=None, insertRowShift=None, totalsRowCount=None, totalsRowShown=False, published=None, headerRowDxfId=10, dataDxfId=None, totalsRowDxfId=None, headerRowBorderDxfId=9, tableBorderDxfId=8, totalsRowBorderDxfId=7, headerRowCellStyle=None, dataCellStyle=None, totalsRowCellStyle=None, connectionId=None, autoFilter=<openpyxl.worksheet.filters.AutoFilter object>\n",
      "Parameters:\n",
      "ref='A7:C10', filterColumn=[], sortState=None, sortState=None, tableColumns=[<openpyxl.worksheet.table.TableColumn object>\n",
      "Parameters:\n",
      "id=1, uniqueName=None, name='СД_ИНН', totalsRowFunction=None, totalsRowLabel=None, queryTableFieldId=None, headerRowDxfId=None, dataDxfId=None, totalsRowDxfId=None, headerRowCellStyle=None, dataCellStyle=None, totalsRowCellStyle=None, calculatedColumnFormula=None, totalsRowFormula=None, xmlColumnPr=None, extLst=None, <openpyxl.worksheet.table.TableColumn object>\n",
      "Parameters:\n",
      "id=2, uniqueName=None, name='СД_ОГРН', totalsRowFunction=None, totalsRowLabel=None, queryTableFieldId=None, headerRowDxfId=None, dataDxfId=None, totalsRowDxfId=None, headerRowCellStyle=None, dataCellStyle=None, totalsRowCellStyle=None, calculatedColumnFormula=None, totalsRowFormula=None, xmlColumnPr=None, extLst=None, <openpyxl.worksheet.table.TableColumn object>\n",
      "Parameters:\n",
      "id=3, uniqueName=None, name='СпецДеп', totalsRowFunction=None, totalsRowLabel=None, queryTableFieldId=None, headerRowDxfId=None, dataDxfId=6, totalsRowDxfId=None, headerRowCellStyle=None, dataCellStyle=None, totalsRowCellStyle=None, calculatedColumnFormula=None, totalsRowFormula=None, xmlColumnPr=None, extLst=None], tableStyleInfo=<openpyxl.worksheet.table.TableStyleInfo object>\n",
      "Parameters:\n",
      "name='TableStyleDark6', showFirstColumn=False, showLastColumn=False, showRowStripes=True, showColumnStripes=False\n",
      " : СпецДеп\n",
      "   -  name = СпецДеп\n",
      "   -  type = n/a\n",
      "   - range = A7:C10\n",
      "   - #cols = 3\n",
      "     : СД_ИНН\n",
      "     : СД_ОГРН\n",
      "     : СпецДеп\n",
      "<openpyxl.worksheet.table.Table object>\n",
      "Parameters:\n",
      "id=4, name='Банк', displayName='Банк', comment=None, ref='B13:C16', tableType=None, headerRowCount=1, insertRow=None, insertRowShift=None, totalsRowCount=None, totalsRowShown=False, published=None, headerRowDxfId=None, dataDxfId=None, totalsRowDxfId=None, headerRowBorderDxfId=None, tableBorderDxfId=None, totalsRowBorderDxfId=None, headerRowCellStyle=None, dataCellStyle=None, totalsRowCellStyle=None, connectionId=None, autoFilter=<openpyxl.worksheet.filters.AutoFilter object>\n",
      "Parameters:\n",
      "ref='B13:C16', filterColumn=[], sortState=None, sortState=None, tableColumns=[<openpyxl.worksheet.table.TableColumn object>\n",
      "Parameters:\n",
      "id=1, uniqueName=None, name='id', totalsRowFunction=None, totalsRowLabel=None, queryTableFieldId=None, headerRowDxfId=None, dataDxfId=None, totalsRowDxfId=None, headerRowCellStyle=None, dataCellStyle=None, totalsRowCellStyle=None, calculatedColumnFormula=None, totalsRowFormula=None, xmlColumnPr=None, extLst=None, <openpyxl.worksheet.table.TableColumn object>\n",
      "Parameters:\n",
      "id=2, uniqueName=None, name='name', totalsRowFunction=None, totalsRowLabel=None, queryTableFieldId=None, headerRowDxfId=None, dataDxfId=None, totalsRowDxfId=None, headerRowCellStyle=None, dataCellStyle=None, totalsRowCellStyle=None, calculatedColumnFormula=None, totalsRowFormula=None, xmlColumnPr=None, extLst=None], tableStyleInfo=<openpyxl.worksheet.table.TableStyleInfo object>\n",
      "Parameters:\n",
      "name='TableStyleDark6', showFirstColumn=False, showLastColumn=False, showRowStripes=True, showColumnStripes=False\n",
      " : Банк\n",
      "   -  name = Банк\n",
      "   -  type = n/a\n",
      "   - range = B13:C16\n",
      "   - #cols = 2\n",
      "     : id\n",
      "     : name\n",
      "<openpyxl.worksheet.table.Table object>\n",
      "Parameters:\n",
      "id=5, name='pif', displayName='pif', comment='ыувуц', ref='C19:D27', tableType=None, headerRowCount=1, insertRow=None, insertRowShift=None, totalsRowCount=None, totalsRowShown=False, published=None, headerRowDxfId=None, dataDxfId=4, totalsRowDxfId=None, headerRowBorderDxfId=5, tableBorderDxfId=3, totalsRowBorderDxfId=2, headerRowCellStyle=None, dataCellStyle=None, totalsRowCellStyle=None, connectionId=None, autoFilter=<openpyxl.worksheet.filters.AutoFilter object>\n",
      "Parameters:\n",
      "ref='C19:D27', filterColumn=[], sortState=None, sortState=None, tableColumns=[<openpyxl.worksheet.table.TableColumn object>\n",
      "Parameters:\n",
      "id=1, uniqueName=None, name='id', totalsRowFunction=None, totalsRowLabel=None, queryTableFieldId=None, headerRowDxfId=None, dataDxfId=1, totalsRowDxfId=None, headerRowCellStyle=None, dataCellStyle=None, totalsRowCellStyle=None, calculatedColumnFormula=None, totalsRowFormula=None, xmlColumnPr=None, extLst=None, <openpyxl.worksheet.table.TableColumn object>\n",
      "Parameters:\n",
      "id=2, uniqueName=None, name='пай', totalsRowFunction=None, totalsRowLabel=None, queryTableFieldId=None, headerRowDxfId=None, dataDxfId=0, totalsRowDxfId=None, headerRowCellStyle=None, dataCellStyle=None, totalsRowCellStyle=None, calculatedColumnFormula=None, totalsRowFormula=None, xmlColumnPr=None, extLst=None], tableStyleInfo=<openpyxl.worksheet.table.TableStyleInfo object>\n",
      "Parameters:\n",
      "name='TableStyleDark6', showFirstColumn=False, showLastColumn=False, showRowStripes=True, showColumnStripes=False\n",
      " : pif\n",
      "   -  name = pif\n",
      "   -  type = n/a\n",
      "   - range = C19:D27\n",
      "   - #cols = 2\n",
      "     : id\n",
      "     : пай\n"
     ]
    }
   ],
   "source": [
    "ws = wb['списки']\n",
    "# ws._tables\n",
    "for tbl in ws._tables:\n",
    "    print(tbl)\n",
    "    print(\" : \" + tbl.displayName)\n",
    "    print(\"   -  name = \" + tbl.name)\n",
    "    print(\"   -  type = \" + (tbl.tableType if isinstance(tbl.tableType, str) else 'n/a'))\n",
    "    print(\"   - range = \" + tbl.ref)\n",
    "    print(\"   - #cols = %d\" % len(tbl.tableColumns))\n",
    "    for col in tbl.tableColumns:\n",
    "                print(\"     : \" + col.name)"
   ],
   "metadata": {
    "collapsed": false,
    "pycharm": {
     "name": "#%%\n"
    }
   }
  },
  {
   "cell_type": "code",
   "execution_count": 65,
   "outputs": [
    {
     "ename": "AttributeError",
     "evalue": "'list' object has no attribute 'name'",
     "output_type": "error",
     "traceback": [
      "\u001B[1;31m---------------------------------------------------------------------------\u001B[0m",
      "\u001B[1;31mAttributeError\u001B[0m                            Traceback (most recent call last)",
      "\u001B[1;32m<ipython-input-65-bcb436006780>\u001B[0m in \u001B[0;36m<module>\u001B[1;34m\u001B[0m\n\u001B[1;32m----> 1\u001B[1;33m \u001B[0mws\u001B[0m\u001B[1;33m.\u001B[0m\u001B[0m_tables\u001B[0m\u001B[1;33m.\u001B[0m\u001B[0mname\u001B[0m\u001B[1;33m[\u001B[0m\u001B[1;34m'pif'\u001B[0m\u001B[1;33m]\u001B[0m\u001B[1;33m\u001B[0m\u001B[1;33m\u001B[0m\u001B[0m\n\u001B[0m\u001B[0;32m      2\u001B[0m \u001B[1;33m\u001B[0m\u001B[0m\n",
      "\u001B[1;31mAttributeError\u001B[0m: 'list' object has no attribute 'name'"
     ]
    }
   ],
   "source": [
    "ws._tables.name['pif']"
   ],
   "metadata": {
    "collapsed": false,
    "pycharm": {
     "name": "#%%\n"
    }
   }
  },
  {
   "cell_type": "code",
   "execution_count": 10,
   "outputs": [],
   "source": [
    "import xlrd\n"
   ],
   "metadata": {
    "collapsed": false,
    "pycharm": {
     "name": "#%%\n"
    }
   }
  },
  {
   "cell_type": "code",
   "execution_count": 13,
   "outputs": [],
   "source": [
    "rb = xlrd.open_workbook('./tmp/пиф_id.xlsx')"
   ],
   "metadata": {
    "collapsed": false,
    "pycharm": {
     "name": "#%%\n"
    }
   }
  },
  {
   "cell_type": "code",
   "execution_count": 36,
   "outputs": [
    {
     "data": {
      "text/plain": "{'qq': [<xlrd.book.Name at 0x14de68b8eb0>]}"
     },
     "execution_count": 36,
     "metadata": {},
     "output_type": "execute_result"
    }
   ],
   "source": [
    "tabl = rb.name_map\n",
    "tabl\n",
    "\n"
   ],
   "metadata": {
    "collapsed": false,
    "pycharm": {
     "name": "#%%\n"
    }
   }
  }
 ],
 "metadata": {
  "kernelspec": {
   "display_name": "Python 3",
   "language": "python",
   "name": "python3"
  },
  "language_info": {
   "codemirror_mode": {
    "name": "ipython",
    "version": 2
   },
   "file_extension": ".py",
   "mimetype": "text/x-python",
   "name": "python",
   "nbconvert_exporter": "python",
   "pygments_lexer": "ipython2",
   "version": "2.7.6"
  }
 },
 "nbformat": 4,
 "nbformat_minor": 0
}