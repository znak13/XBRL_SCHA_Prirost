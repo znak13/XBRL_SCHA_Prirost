{
 "cells": [
  {
   "cell_type": "code",
   "execution_count": 9,
   "metadata": {
    "collapsed": true,
    "pycharm": {
     "is_executing": false
    }
   },
   "outputs": [],
   "source": [
    "import openpyxl"
   ]
  },
  {
   "cell_type": "code",
   "execution_count": 11,
   "outputs": [],
   "source": [
    "def sheetsCodes(wb):\n",
    "    \"\"\" Список наименования листов и их URL  \"\"\"\n",
    "    sheets_codes = {}\n",
    "    for sheet in wb.sheetnames:\n",
    "        ws_xbrl = wb[sheet]\n",
    "        ws_xbrl_cell = ws_xbrl.cell(3, 1)\n",
    "        sheets_codes [sheet] = ws_xbrl_cell.value\n",
    "        # print(sheet, ws_xbrl_cell.value)\n",
    "\n",
    "    # исключаем из списка вкладку '_dropDownSheet'\n",
    "    for sheet in sheets_codes:\n",
    "        if sheet == '_dropDownSheet':\n",
    "            sheets_codes.pop(sheet)\n",
    "            break\n",
    "\n",
    "    return sheets_codes    \n"
   ],
   "metadata": {
    "collapsed": false,
    "pycharm": {
     "name": "#%%\n",
     "is_executing": false
    }
   }
  },
  {
   "cell_type": "code",
   "source": [
    "file_name = r\"d:\\Clouds\\YandexDisk\\Git\\XBRL_SCHA_Prirost\\0420502_0420503.xlsx\"\n",
    "# Загружаем данные из файла таблицы xbrl\n",
    "wb = openpyxl.load_workbook(filename=file_name)\n",
    "\n",
    "sheets_codes = sheetsCodes(wb)\n"
   ],
   "metadata": {
    "collapsed": false,
    "pycharm": {
     "name": "#%%\n"
    }
   },
   "execution_count": null,
   "outputs": []
  },
  {
   "cell_type": "code",
   "execution_count": 12,
   "outputs": [],
   "source": [
    "code_PZ_5 = 'SR_0420502_PZ_inf_treb_i_obyaz_opz_fiuch_2'\n",
    "sheets_PZ=[]\n",
    "for sheet in sheets_codes:\n",
    "    code = sheets_codes[sheet]\n",
    "    if (\"_PZ_\" in code) and (code_PZ_5 not in code):\n",
    "        sheets_PZ.append(sheet)"
   ],
   "metadata": {
    "collapsed": false,
    "pycharm": {
     "name": "#%%\n",
     "is_executing": false
    }
   }
  },
  {
   "cell_type": "code",
   "source": [
    " 5 > 5\n",
    " \n"
   ],
   "metadata": {
    "collapsed": false,
    "pycharm": {
     "name": "#%%\n",
     "is_executing": false
    }
   },
   "execution_count": 14,
   "outputs": [
    {
     "data": {
      "text/plain": "False"
     },
     "metadata": {},
     "output_type": "execute_result",
     "execution_count": 14
    }
   ]
  }
 ],
 "metadata": {
  "kernelspec": {
   "display_name": "Python 3",
   "language": "python",
   "name": "python3"
  },
  "language_info": {
   "codemirror_mode": {
    "name": "ipython",
    "version": 2
   },
   "file_extension": ".py",
   "mimetype": "text/x-python",
   "name": "python",
   "nbconvert_exporter": "python",
   "pygments_lexer": "ipython2",
   "version": "2.7.6"
  },
  "pycharm": {
   "stem_cell": {
    "cell_type": "raw",
    "source": [],
    "metadata": {
     "collapsed": false
    }
   }
  }
 },
 "nbformat": 4,
 "nbformat_minor": 0
}