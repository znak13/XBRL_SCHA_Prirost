{
 "cells": [
  {
   "cell_type": "code",
   "execution_count": 2,
   "metadata": {
    "collapsed": true,
    "pycharm": {
     "name": "#%%\n"
    }
   },
   "outputs": [],
   "source": [
    "import pandas as pd\n",
    "import numpy as np"
   ]
  },
  {
   "cell_type": "code",
   "execution_count": 15,
   "outputs": [
    {
     "data": {
      "text/plain": "         a  c\n0     o_ne  0\n1     on_e  1\n2     t_wo  2\n3  th_ree_  3\n4   _tw_o_  4\n5      one  5\n6      six  6",
      "text/html": "<div>\n<style scoped>\n    .dataframe tbody tr th:only-of-type {\n        vertical-align: middle;\n    }\n\n    .dataframe tbody tr th {\n        vertical-align: top;\n    }\n\n    .dataframe thead th {\n        text-align: right;\n    }\n</style>\n<table border=\"1\" class=\"dataframe\">\n  <thead>\n    <tr style=\"text-align: right;\">\n      <th></th>\n      <th>a</th>\n      <th>c</th>\n    </tr>\n  </thead>\n  <tbody>\n    <tr>\n      <th>0</th>\n      <td>o_ne</td>\n      <td>0</td>\n    </tr>\n    <tr>\n      <th>1</th>\n      <td>on_e</td>\n      <td>1</td>\n    </tr>\n    <tr>\n      <th>2</th>\n      <td>t_wo</td>\n      <td>2</td>\n    </tr>\n    <tr>\n      <th>3</th>\n      <td>th_ree_</td>\n      <td>3</td>\n    </tr>\n    <tr>\n      <th>4</th>\n      <td>_tw_o_</td>\n      <td>4</td>\n    </tr>\n    <tr>\n      <th>5</th>\n      <td>one</td>\n      <td>5</td>\n    </tr>\n    <tr>\n      <th>6</th>\n      <td>six</td>\n      <td>6</td>\n    </tr>\n  </tbody>\n</table>\n</div>"
     },
     "execution_count": 15,
     "metadata": {},
     "output_type": "execute_result"
    }
   ],
   "source": [
    "dfb = pd.DataFrame({'a': ['o_ne', 'on_e', 't_wo', 'th_ree_', '_tw_o_', 'one', 'six'],\n",
    "                    'c': np.arange(7)})\n",
    "dfb"
   ],
   "metadata": {
    "collapsed": false,
    "pycharm": {
     "name": "#%%\n"
    }
   }
  },
  {
   "cell_type": "code",
   "execution_count": 16,
   "outputs": [
    {
     "data": {
      "text/plain": "       a  c\n0    one  0\n1    one  1\n2    two  2\n3  three  3\n4    two  4\n5    one  5\n6    six  6",
      "text/html": "<div>\n<style scoped>\n    .dataframe tbody tr th:only-of-type {\n        vertical-align: middle;\n    }\n\n    .dataframe tbody tr th {\n        vertical-align: top;\n    }\n\n    .dataframe thead th {\n        text-align: right;\n    }\n</style>\n<table border=\"1\" class=\"dataframe\">\n  <thead>\n    <tr style=\"text-align: right;\">\n      <th></th>\n      <th>a</th>\n      <th>c</th>\n    </tr>\n  </thead>\n  <tbody>\n    <tr>\n      <th>0</th>\n      <td>one</td>\n      <td>0</td>\n    </tr>\n    <tr>\n      <th>1</th>\n      <td>one</td>\n      <td>1</td>\n    </tr>\n    <tr>\n      <th>2</th>\n      <td>two</td>\n      <td>2</td>\n    </tr>\n    <tr>\n      <th>3</th>\n      <td>three</td>\n      <td>3</td>\n    </tr>\n    <tr>\n      <th>4</th>\n      <td>two</td>\n      <td>4</td>\n    </tr>\n    <tr>\n      <th>5</th>\n      <td>one</td>\n      <td>5</td>\n    </tr>\n    <tr>\n      <th>6</th>\n      <td>six</td>\n      <td>6</td>\n    </tr>\n  </tbody>\n</table>\n</div>"
     },
     "execution_count": 16,
     "metadata": {},
     "output_type": "execute_result"
    }
   ],
   "source": [
    "dfb['a'] = dfb['a'].apply(lambda x: x.replace('_', ''))\n",
    "dfb"
   ],
   "metadata": {
    "collapsed": false,
    "pycharm": {
     "name": "#%%\n"
    }
   }
  },
  {
   "cell_type": "code",
   "execution_count": 49,
   "outputs": [
    {
     "data": {
      "text/plain": "       a    c\n0    one  800\n1    one  801\n2    two  802\n3  three  803\n4    two  804\n5    one  805\n6    six  806",
      "text/html": "<div>\n<style scoped>\n    .dataframe tbody tr th:only-of-type {\n        vertical-align: middle;\n    }\n\n    .dataframe tbody tr th {\n        vertical-align: top;\n    }\n\n    .dataframe thead th {\n        text-align: right;\n    }\n</style>\n<table border=\"1\" class=\"dataframe\">\n  <thead>\n    <tr style=\"text-align: right;\">\n      <th></th>\n      <th>a</th>\n      <th>c</th>\n    </tr>\n  </thead>\n  <tbody>\n    <tr>\n      <th>0</th>\n      <td>one</td>\n      <td>800</td>\n    </tr>\n    <tr>\n      <th>1</th>\n      <td>one</td>\n      <td>801</td>\n    </tr>\n    <tr>\n      <th>2</th>\n      <td>two</td>\n      <td>802</td>\n    </tr>\n    <tr>\n      <th>3</th>\n      <td>three</td>\n      <td>803</td>\n    </tr>\n    <tr>\n      <th>4</th>\n      <td>two</td>\n      <td>804</td>\n    </tr>\n    <tr>\n      <th>5</th>\n      <td>one</td>\n      <td>805</td>\n    </tr>\n    <tr>\n      <th>6</th>\n      <td>six</td>\n      <td>806</td>\n    </tr>\n  </tbody>\n</table>\n</div>"
     },
     "execution_count": 49,
     "metadata": {},
     "output_type": "execute_result"
    }
   ],
   "source": [
    "dfb['c'] = dfb['c'].apply(lambda x:(x + 200))\n",
    "dfb"
   ],
   "metadata": {
    "collapsed": false,
    "pycharm": {
     "name": "#%%\n"
    }
   }
  },
  {
   "cell_type": "code",
   "execution_count": 54,
   "outputs": [
    {
     "data": {
      "text/plain": "0    800\n1    801\n2    802\n3    803\n4    804\n5    805\n6    806\nName: c, dtype: int64"
     },
     "execution_count": 54,
     "metadata": {},
     "output_type": "execute_result"
    }
   ],
   "source": [
    "dfb2 = dfb['c']\n",
    "dfb2"
   ],
   "metadata": {
    "collapsed": false,
    "pycharm": {
     "name": "#%%\n"
    }
   }
  },
  {
   "cell_type": "code",
   "execution_count": 47,
   "outputs": [
    {
     "data": {
      "text/plain": "0    600\n1    601\n2    602\n3    603\n4    604\n5    605\n6    606\nName: c, dtype: int64"
     },
     "execution_count": 47,
     "metadata": {},
     "output_type": "execute_result"
    }
   ],
   "source": [
    "dfb['c'].apply(lambda x:(x + 200))"
   ],
   "metadata": {
    "collapsed": false,
    "pycharm": {
     "name": "#%%\n"
    }
   }
  },
  {
   "cell_type": "code",
   "execution_count": 60,
   "outputs": [
    {
     "data": {
      "text/plain": "5    805\nName: c, dtype: int64"
     },
     "execution_count": 60,
     "metadata": {},
     "output_type": "execute_result"
    }
   ],
   "source": [
    "qq = dfb2[dfb2 == 805]\n",
    "qq"
   ],
   "metadata": {
    "collapsed": false,
    "pycharm": {
     "name": "#%%\n"
    }
   }
  },
  {
   "cell_type": "code",
   "execution_count": null,
   "outputs": [],
   "source": [
    "qq.to_list()\n"
   ],
   "metadata": {
    "collapsed": false,
    "pycharm": {
     "name": "#%%\n"
    }
   }
  },
  {
   "cell_type": "code",
   "execution_count": 31,
   "outputs": [
    {
     "data": {
      "text/plain": "    one          two       \n  first second first second\n0     a      b     c      d\n1     e      f     g      h\n2     i      j     k      l\n3     m      n     o      p",
      "text/html": "<div>\n<style scoped>\n    .dataframe tbody tr th:only-of-type {\n        vertical-align: middle;\n    }\n\n    .dataframe tbody tr th {\n        vertical-align: top;\n    }\n\n    .dataframe thead tr th {\n        text-align: left;\n    }\n</style>\n<table border=\"1\" class=\"dataframe\">\n  <thead>\n    <tr>\n      <th></th>\n      <th colspan=\"2\" halign=\"left\">one</th>\n      <th colspan=\"2\" halign=\"left\">two</th>\n    </tr>\n    <tr>\n      <th></th>\n      <th>first</th>\n      <th>second</th>\n      <th>first</th>\n      <th>second</th>\n    </tr>\n  </thead>\n  <tbody>\n    <tr>\n      <th>0</th>\n      <td>a</td>\n      <td>b</td>\n      <td>c</td>\n      <td>d</td>\n    </tr>\n    <tr>\n      <th>1</th>\n      <td>e</td>\n      <td>f</td>\n      <td>g</td>\n      <td>h</td>\n    </tr>\n    <tr>\n      <th>2</th>\n      <td>i</td>\n      <td>j</td>\n      <td>k</td>\n      <td>l</td>\n    </tr>\n    <tr>\n      <th>3</th>\n      <td>m</td>\n      <td>n</td>\n      <td>o</td>\n      <td>p</td>\n    </tr>\n  </tbody>\n</table>\n</div>"
     },
     "execution_count": 31,
     "metadata": {},
     "output_type": "execute_result"
    }
   ],
   "source": [
    "# двойной индекс\n",
    "dfmi = pd.DataFrame([list('abcd'),\n",
    "                     list('efgh'),\n",
    "                     list('ijkl'),\n",
    "                     list('mnop')],\n",
    "                    columns=pd.MultiIndex.from_product([['one', 'two'], ['first', 'second']]))\n",
    "dfmi"
   ],
   "metadata": {
    "collapsed": false,
    "pycharm": {
     "name": "#%%\n"
    }
   }
  },
  {
   "cell_type": "code",
   "execution_count": 28,
   "outputs": [
    {
     "data": {
      "text/plain": "0    b\n1    f\n2    j\n3    n\nName: second, dtype: object"
     },
     "execution_count": 28,
     "metadata": {},
     "output_type": "execute_result"
    }
   ],
   "source": [
    "dfmi['one']['second']"
   ],
   "metadata": {
    "collapsed": false,
    "pycharm": {
     "name": "#%%\n"
    }
   }
  },
  {
   "cell_type": "code",
   "execution_count": 30,
   "outputs": [
    {
     "data": {
      "text/plain": "0    b\n1    f\n2    j\n3    n\nName: (one, second), dtype: object"
     },
     "execution_count": 30,
     "metadata": {},
     "output_type": "execute_result"
    }
   ],
   "source": [
    "dfmi.loc[:, ('one', 'second')]"
   ],
   "metadata": {
    "collapsed": false,
    "pycharm": {
     "name": "#%%\n"
    }
   }
  },
  {
   "cell_type": "code",
   "execution_count": 62,
   "outputs": [
    {
     "data": {
      "text/plain": "['dsf_fsdf', '_dfsd_fgg_']"
     },
     "execution_count": 62,
     "metadata": {},
     "output_type": "execute_result"
    }
   ],
   "source": [
    "\n",
    "a = ['dsf_fsdf', '_dfsd_fgg_']\n",
    "a"
   ],
   "metadata": {
    "collapsed": false,
    "pycharm": {
     "name": "#%%\n"
    }
   }
  },
  {
   "cell_type": "code",
   "execution_count": 72,
   "outputs": [
    {
     "data": {
      "text/plain": "['ЗПИФ_РПИ',\n 'ЗПИФ_АРС Капитал',\n 'ЗПИФ_Дон',\n 'ЗПИФ_Азов',\n 'ЗПИФ_Центр',\n 'ЗПИФ_Кубань',\n 'ЗПИФ_ЦентрДев',\n 'ЗПИФ_ВостокКапитал']"
     },
     "execution_count": 72,
     "metadata": {},
     "output_type": "execute_result"
    }
   ],
   "source": [
    "from module.globals import *\n",
    "sheet_name = 'ПИФ'\n",
    "df_pifID = pd.read_excel(dir_shablon+fileID, sheet_name=sheet_name, header=None)\n",
    "pifID = list (df_pifID[0].to_list())[1:]\n"
   ],
   "metadata": {
    "collapsed": false,
    "pycharm": {
     "name": "#%%\n"
    }
   }
  }
 ],
 "metadata": {
  "kernelspec": {
   "display_name": "Python 3",
   "language": "python",
   "name": "python3"
  },
  "language_info": {
   "codemirror_mode": {
    "name": "ipython",
    "version": 2
   },
   "file_extension": ".py",
   "mimetype": "text/x-python",
   "name": "python",
   "nbconvert_exporter": "python",
   "pygments_lexer": "ipython2",
   "version": "2.7.6"
  }
 },
 "nbformat": 4,
 "nbformat_minor": 0
}