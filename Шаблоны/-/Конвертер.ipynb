{
 "cells": [
  {
   "cell_type": "code",
   "execution_count": 26,
   "metadata": {
    "collapsed": true,
    "pycharm": {
     "is_executing": false
    }
   },
   "outputs": [
    {
     "data": {
      "text/plain": "''"
     },
     "metadata": {},
     "output_type": "execute_result",
     "execution_count": 26
    }
   ],
   "source": [
    "import openpyxl\n",
    "import pandas as pd\n",
    "from module.analiz_data import *\n",
    "import shutil\n",
    "from openpyxl.utils.cell import coordinate_from_string\n",
    "from openpyxl.utils import column_index_from_string\n",
    "import os\n",
    "import sys\n",
    "from tkinter.filedialog import askopenfilename, asksaveasfilename\n",
    "from tkinter import messagebox\n",
    "from tkinter import Tk\n",
    "Tk().withdraw()\n",
    "\n",
    "# from openpyxl.utils import get_column_letter\n",
    "# from copy import copy\n",
    "# from openpyxl.styles import Font"
   ]
  },
  {
   "cell_type": "code",
   "execution_count": 27,
   "outputs": [],
   "source": [
    "def coordinate (cell):\n",
    "    \"\"\"Конвртер координат: A10 --- 10, 1\"\"\"\n",
    "    data = coordinate_from_string (cell)\n",
    "    row = data[1]\n",
    "    col = column_index_from_string (data[0])\n",
    "    return row, col "
   ],
   "metadata": {
    "collapsed": false,
    "pycharm": {
     "name": "#%%\n",
     "is_executing": false
    }
   }
  },
  {
   "cell_type": "code",
   "execution_count": 28,
   "outputs": [],
   "source": [
    "def tabl_1_size (ws):\n",
    "    \"\"\" Размер шапки таблицы в таблице XBRL\"\"\"\n",
    "    col_size = None\n",
    "    row_start = 5\n",
    "    col_start = 1\n",
    "    for col in range (col_start, ws.max_column + 1):\n",
    "        if \"Z=\" in str (ws.cell(row_start, col).value):\n",
    "            col_size = col\n",
    "            break\n",
    "    if col_size is None:        \n",
    "        ERRORS.append(f'Размер таблицы в \"{ws.title}\" не найден')\n",
    "        raise \n",
    "    return ws.max_row, col_size  "
   ],
   "metadata": {
    "collapsed": false,
    "pycharm": {
     "name": "#%%\n",
     "is_executing": false
    }
   }
  },
  {
   "cell_type": "code",
   "execution_count": 29,
   "outputs": [],
   "source": [
    "def end_col_number (ws, col_size, row_id_fond = 5 ):\n",
    "    \"\"\" найти цифру (номер) в последней колонки в таблице XBRL\n",
    "     и номер строки с идектификаторами \"\"\"    \n",
    "    # координаты ячейки с id фонда\n",
    "    # row_id_fond = 5\n",
    "    # col_size = 12\n",
    "    \n",
    "    # номер последней колонки\n",
    "    for row in range (1, 5):        \n",
    "        cell = ws.cell (row_id_fond + row, col_size)\n",
    "        if cell.value and cell.value.isdigit():\n",
    "            max_number = int(cell.value)            \n",
    "            break\n",
    "    return max_number, row_id_fond + row + 1 # строка с идентификаторами ниже на одну строчку\n"
   ],
   "metadata": {
    "collapsed": false,
    "pycharm": {
     "name": "#%%\n",
     "is_executing": false
    }
   }
  },
  {
   "cell_type": "code",
   "execution_count": 30,
   "outputs": [],
   "source": [
    "def begin_cell (ws, col_size, max_number, row_id_fond = 5 ):\n",
    "    \"\"\" координаты первой ячейки в таблице XBRL \"\"\"\n",
    "    # row_id_fond = 5 - номер строки, в которой расположен \"id_fond\" \n",
    "    # max_number - цифра в ячейке правой крайней колонки\n",
    "    # col_size - номер правой крайней колонки\n",
    "    \n",
    "    col_begin = col_size - (max_number - 1)\n",
    "    for row in range (3,10):\n",
    "        cell = ws.cell (row_id_fond + row, col_begin)        \n",
    "        if cell.fill.start_color.index == '00000000':\n",
    "            row_begin = row_id_fond + row\n",
    "            break\n",
    "    return col_begin, row_begin"
   ],
   "metadata": {
    "collapsed": false,
    "pycharm": {
     "name": "#%%\n",
     "is_executing": false
    }
   }
  },
  {
   "cell_type": "code",
   "execution_count": 31,
   "outputs": [],
   "source": [
    "def id_nombers (col_begin):\n",
    "    \"\"\" номера колонок с иденитификаторами в таблице XBRL\"\"\"\n",
    "    # координаты ячейки с id фонда\n",
    "    # row_id_fond = 5\n",
    "    # col_size = 12\n",
    "    \n",
    "    # номер колонкс с \"Итого\"\n",
    "    col_itogo = 2\n",
    "    # количество колонок с идентификаторами\n",
    "    id_numbers = col_begin - col_itogo\n",
    "    \n",
    "    # номера колонок с идентификаторами\n",
    "    id_cols = [ (col_itogo + col) for col in range (id_numbers)]\n",
    "        \n",
    "    return id_cols\n"
   ],
   "metadata": {
    "collapsed": false,
    "pycharm": {
     "name": "#%%\n",
     "is_executing": false
    }
   }
  },
  {
   "cell_type": "code",
   "execution_count": 32,
   "outputs": [],
   "source": [
    "def find_col_id_fond (ws, col_size, id_fond, row_id_fond = 5 ):\n",
    "    \"\"\" Найти колонку с идентификатором фонда в таблице XBRL\"\"\"\n",
    "    col_id_fond = False    \n",
    "    for col in range (col_size, ws.max_row + 1, col_size):\n",
    "        print ('...', col, ws.cell(row_id_fond, col).value)\n",
    "        cell = ws.cell(row_id_fond, col).value\n",
    "        if cell.endswith(id_fond):\n",
    "            col_id_fond = col\n",
    "            \n",
    "    return col_id_fond\n"
   ],
   "metadata": {
    "collapsed": false,
    "pycharm": {
     "name": "#%%\n",
     "is_executing": false
    }
   }
  },
  {
   "cell_type": "code",
   "execution_count": 32,
   "outputs": [],
   "source": [],
   "metadata": {
    "collapsed": false,
    "pycharm": {
     "name": "#%%\n",
     "is_executing": false
    }
   }
  },
  {
   "cell_type": "code",
   "execution_count": 33,
   "outputs": [],
   "source": [
    "def razdel_name_row (df_avancor, title_1_name, index_max, title_col = 2):    \n",
    "    \"\"\"найти Номер строки с названием раздела в файле Аванкор\"\"\"\n",
    "        \n",
    "    for row in range(1, index_max):\n",
    "        title = str (df_avancor.loc[row, title_col])\n",
    "        if title == title_1_name or title[:20] == title_1_name[:20] :\n",
    "            title_row = row\n",
    "            return title_row\n",
    "\n",
    "    ERRORS.append(f'Раздел отчетности: \"{title_1_name}\" в таблице-Аванкор не найден')\n",
    "    raise \n",
    "        \n",
    "    \n"
   ],
   "metadata": {
    "collapsed": false,
    "pycharm": {
     "name": "#%%\n",
     "is_executing": false
    }
   }
  },
  {
   "cell_type": "code",
   "execution_count": 34,
   "outputs": [],
   "source": [
    "def start_data_row (df_avancor, index_max, title_row, title_col = 2):\n",
    "    \"\"\"находим номер первой строку с данными в файле Аванкор\"\"\" \n",
    "    for row in range (1, index_max):\n",
    "        data_i = df_avancor.loc[title_row + row, title_col]\n",
    "        if str (data_i) == '1':\n",
    "            data_row = title_row + row + 1\n",
    "            return data_row"
   ],
   "metadata": {
    "collapsed": false,
    "pycharm": {
     "name": "#%%\n",
     "is_executing": false
    }
   }
  },
  {
   "cell_type": "code",
   "execution_count": 35,
   "outputs": [],
   "source": [
    "def end_data_row (df_avancor, index_max, data_row, title_col = 2):\n",
    "    \"\"\"находим номер последнке строки с данными в таблице Аванкор\"\"\"\n",
    "    \n",
    "    data = df_avancor.loc[data_row, title_col]\n",
    "    if data == 'Итого' or str (data) == 'nan' or str(data).startswith ('Оценочная стоимость'):\n",
    "        print (' - раздел пуст')    \n",
    "        row_end = data_row\n",
    "    else:        \n",
    "        for row in range (1, index_max):\n",
    "            data_i = df_avancor.loc[data_row + row, title_col]\n",
    "            if data_i == 'Итого' or str (data_i) == 'nan':                \n",
    "                row_end = data_row + row\n",
    "                break\n",
    "                    \n",
    "    return row_end  \n"
   ],
   "metadata": {
    "collapsed": false,
    "pycharm": {
     "name": "#%%\n",
     "is_executing": false
    }
   }
  },
  {
   "cell_type": "code",
   "execution_count": 36,
   "outputs": [],
   "source": [
    "def find_columns_numbers (df_avancor, collumn_max, max_number, data_row, data_col = 3 ):\n",
    "    \"\"\" Номера колонок в таблице Аванкор, за исключением пустых\"\"\"\n",
    "    # data_row, data_col_1 - координаты первой колонки с данными в Аванкор\n",
    "    # max_number - номер последней колонки в таблице XBRL\n",
    "    \n",
    "    column = []\n",
    "    for i in range(0, max_number):                   \n",
    "        while str (df_avancor.loc[data_row - 1, data_col]) == 'nan' and data_col <= collumn_max :\n",
    "            data_col += 1\n",
    "        column.append(data_col)\n",
    "        data_col += 1\n",
    "    return column\n"
   ],
   "metadata": {
    "collapsed": false,
    "pycharm": {
     "name": "#%%\n",
     "is_executing": false
    }
   }
  },
  {
   "cell_type": "code",
   "execution_count": 37,
   "outputs": [],
   "source": [
    "def copy_data (ws, df_avancor, rows_numbers, columns_numbers, row_begin, col_begin):\n",
    "    \"\"\"Копирование данных из таблицы Аванков в таблицу XBRL \"\"\"\n",
    "         \n",
    "    for r, row in enumerate (rows_numbers):\n",
    "        for c, col in enumerate (columns_numbers):\n",
    "            cell_avancor = df_avancor.loc[row, col]\n",
    "            if str (cell_avancor).startswith(\"Не установлен\"):\n",
    "                ERRORS.append (f'\"{ws.title}\"; '\n",
    "                               f'строка: {row_begin + r}, '\n",
    "                               f'колонка: {c+1} ; '\n",
    "                               f'параметр: \"{cell_avancor}\"' )\n",
    "            if cell_avancor != '-' and cell_avancor != \"x\" and cell_avancor != 0:          \n",
    "                ws.cell(row_begin + r, col_begin + c).value = \\\n",
    "                    analiz_data_all (df_avancor.loc[row, col] )\n",
    "                \n"
   ],
   "metadata": {
    "collapsed": false,
    "pycharm": {
     "name": "#%%\n",
     "is_executing": false
    }
   }
  },
  {
   "cell_type": "code",
   "execution_count": 38,
   "outputs": [],
   "source": [
    "def find_id (ws, df_id_ws, row_i, id_i1, id_fond):\n",
    "    \"\"\" найти нужный идентификатор, анализируя содержание ячеек в строке таблицы XBRL\"\"\"\n",
    "    # id_i1 - первый признак идентификатора\n",
    "    # id_i2 - второй признак идентификатора\n",
    "    \n",
    "    # список найденных идентификаторов (первая колонка) \n",
    "    id_list = df_id_ws[ df_id_ws[1] == id_i1 ][0].to_list()  \n",
    "    \n",
    "    id_i2 = False # второй признак идентификатора\n",
    "        \n",
    "    # если список состоит из одного элемента, то идентификатор определен \n",
    "    if len (id_list) == 1:        \n",
    "        id_name = id_list[0]\n",
    "    else: # идентификатор НЕ определен\n",
    "        # список вторых признаков идентификатора (третья колонка)\n",
    "        id_str_2 = df_id_ws[df_id_ws[1] == id_i1 ][2].to_list()\n",
    "                \n",
    "        # просматриваем ячейки в строке\n",
    "        for col_i in range (col_begin, col_size + 1 ):\n",
    "            # Признак идентификатора\n",
    "            id_i2 = ws.cell(row_i, col_i).value\n",
    "            \n",
    "            if id_i2 in id_str_2: # в строке есть второй признак\n",
    "                break        \n",
    "        if not id_i2: # если в строке второй признак не найден, то находим связь с \"id_fond\"            \n",
    "            id_i2 = id_fond\n",
    "            \n",
    "        id_list = df_id_ws[(df_id_ws[1] == id_i1) & (df_id_ws[2] == id_i2)][0].to_list()\n",
    "        id_name = id_list[0] \n",
    "        \n",
    "    return id_name\n",
    "\n",
    "\n",
    "def insert_id (ws, id_row, id_cols, df_id, rows_numbers, row_begin, col_begin, id_fond ):   \n",
    "    \"\"\" Находим и вставляем идентификаторы в ячейки\"\"\"\n",
    "    \n",
    "    # словарь ВСЕХ названий идетификаторов (полные) и имен вкладок (сокращенные)\n",
    "    list_id = {(df_id[k].loc[0,0]): k for k in df_id.keys() }\n",
    "    \n",
    "    # список идентификаторов на листе \n",
    "    id_on_list = [ws.cell(id_row, col).value for col in id_cols ]\n",
    "    # находим признаки идентификатора в строке\n",
    "    for i, id_name in enumerate (id_on_list): # полные названия идентификаторов    \n",
    "        # название листа в файле с идентификатрами \n",
    "        sheet_name_id = list_id [id_name]\n",
    "        # открываем нужную страницу в файле с идентификаторами\n",
    "        df_id_ws = df_id[sheet_name_id]\n",
    "                \n",
    "        # находим множество всех признаков идентификаторов (исключая нулевую строку)\n",
    "        # вторая колонка\n",
    "        id_n = set (df_id_ws [1].to_list()[1:])\n",
    "                \n",
    "        for row in range (len (rows_numbers) - 1):\n",
    "            row_i = row_begin + row\n",
    "            id_on = False\n",
    "            for col in range (max_number):\n",
    "                                \n",
    "                col_i = col_begin + col \n",
    "                # Признак идентификатора\n",
    "                id_i = ws.cell(row_i, col_i).value        \n",
    "                \n",
    "                # Если признак состоит из одних цифр, то преобразуем его в целое число, \n",
    "                # т.к. это либо ИНН либо ОГРН               \n",
    "                if type(id_i) == str and id_i.isdigit():\n",
    "                    id_i = int (id_i)    \n",
    "                                \n",
    "                # если находим признак идентификатора, то прерываем пеербор колонок\n",
    "                if id_i in id_n:\n",
    "                    id_on = True\n",
    "                    # записываем название идентификатора в таблицу xbrl                 \n",
    "                    ws.cell(row_i, id_cols[i]).value = find_id (ws, df_id_ws, row_i, id_i, id_fond) \n",
    "                    break\n",
    "            \n",
    "            # исусственное установление признака \"Наименование биржи\" == 'NoName', \n",
    "            # так как при указании не внебиржевые бумаги поле в отчетностит остается пустым               \n",
    "            if 'NoName' in id_n:\n",
    "                id_on = True\n",
    "                id_i = 'NoName'\n",
    "                ws.cell(row_i, id_cols[i]).value = find_id (ws, df_id_ws, row_i, id_i, id_fond) \n",
    "            \n",
    "            if not id_on:                \n",
    "                ERRORS.append(f'\"{ws.title}\"; Идентификатор - \"{sheet_name_id}\" -  не найден!')"
   ],
   "metadata": {
    "collapsed": false,
    "pycharm": {
     "name": "#%%\n",
     "is_executing": false
    }
   }
  },
  {
   "cell_type": "code",
   "execution_count": 39,
   "outputs": [],
   "source": [
    "def copy_id_fond_to_tbl (wb, id_fond): \n",
    "    \"\"\"Записываем во все формы идентификатор фонда\"\"\"\n",
    "    \n",
    "    # Выбираем вкладки, содержащие идентификатор фонда\n",
    "    sheet_2_with_id_fond = wb.sheetnames\n",
    "    sheet_2_with_id_fond.remove('0420502 Справка о стоимости чис')\n",
    "    sheet_2_with_id_fond.remove('0420502 Справка о стоимости _56')\n",
    "    sheet_2_with_id_fond.remove('0420502 Справка о стоимости _57')\n",
    "    sheet_2_with_id_fond.remove('_dropDownSheet')\n",
    "    \n",
    "    # Записываем в выбранные вкладки идентификатор фонда\n",
    "    for form in sheet_2_with_id_fond:    \n",
    "        ws = wb[form]\n",
    "        # Размер шапки таблицы таблицы XBRL\n",
    "        row_size, col_size = tabl_1_size(ws)\n",
    "        # записывает во все таблицы xbrl идентификатор фонда\n",
    "        ws.cell(row = 5, column = col_size ).value = 'Z= Идентификатор АИФ ПИФ-' + id_fond "
   ],
   "metadata": {
    "collapsed": false,
    "pycharm": {
     "name": "#%%\n",
     "is_executing": false
    }
   }
  },
  {
   "cell_type": "code",
   "execution_count": 40,
   "outputs": [],
   "source": [
    "def load_matrica ():\n",
    "    \"\"\"загружвем данные из матрицы\"\"\"\n",
    "    file_matrica = r'./Шаблоны/Матрица_0420502.xlsx'\n",
    "    df_matrica = pd.read_excel(file_matrica, sheet_name='0420502', index_col=1)\n",
    "    #df_matrica.head(3)\n",
    "    return df_matrica"
   ],
   "metadata": {
    "collapsed": false,
    "pycharm": {
     "name": "#%%\n",
     "is_executing": false
    }
   }
  },
  {
   "cell_type": "code",
   "execution_count": 41,
   "outputs": [],
   "source": [
    "def load_avancor (file_avancor):\n",
    "    # загружвем данные из отчета таблицы Аванкор\n",
    "\n",
    "    df_avancor = pd.read_excel(file_avancor, sheet_name='TDSheet', header=None)\n",
    "    \n",
    "    # устанавливаем начальный индекс не c 0, а c 1  \n",
    "    df_avancor.index += 1\n",
    "    df_avancor.columns += 1\n",
    "    \n",
    "    return df_avancor"
   ],
   "metadata": {
    "collapsed": false,
    "pycharm": {
     "name": "#%%\n",
     "is_executing": false
    }
   }
  },
  {
   "cell_type": "code",
   "execution_count": 42,
   "outputs": [],
   "source": [
    "def copy_fio(wb_xbrl, df_matrica, df_avancor):\n",
    "\n",
    "    # отбор форм подписантов\n",
    "    sheet_2_fio = wb_xbrl.sheetnames[61:63]\n",
    "    \n",
    "    for form in sheet_2_fio: \n",
    "        # находим, используя матрицу, раздел в файле Аванкор, соответствующий выбранной форме \n",
    "        title_1_name = df_matrica.loc[form,'sheet_1_title']\n",
    "        \n",
    "        # количество строк в таблице Аванкор\n",
    "        index_max = df_avancor.shape[0]\n",
    "        # Номер строки с названием раздела в файле Аванкор           \n",
    "        title_row = razdel_name_row (df_avancor, title_1_name, index_max)\n",
    "        \n",
    "        # номер колонки ячейки с данными в таблице Аванкор\n",
    "        data_col = df_matrica.loc[form, 'cell1_col']\n",
    "        data_col = column_index_from_string (data_col)\n",
    "        \n",
    "        # ФИО подписанта\n",
    "        fio = df_avancor.loc[title_row, data_col]\n",
    "        \n",
    "        # записываем в форму xbrl\n",
    "        ws_fio = wb_xbrl[form]\n",
    "        row_fio, col_fio = coordinate(df_matrica.loc[form,'cell_fio'])\n",
    "        ws_fio.cell(row_fio, col_fio).value = fio\n",
    "        \n",
    "        print (ws_fio.cell(row_fio, col_fio).value)"
   ],
   "metadata": {
    "collapsed": false,
    "pycharm": {
     "name": "#%%\n",
     "is_executing": false
    }
   }
  },
  {
   "cell_type": "code",
   "execution_count": 43,
   "outputs": [],
   "source": [
    "def copy_period (wb_xbrl, df_avancor, df_matrica):\n",
    "    \"\"\" Вставляем данные о периоде отчетности \"\"\"\n",
    "    period_begin = analiz_data_data (df_avancor.loc [18,1])\n",
    "    period_end = analiz_data_data (df_avancor.loc [18,5])\n",
    "        \n",
    "    sheet_xbrl_period = wb_xbrl.sheetnames[8:18]\n",
    "    for sheet in sheet_xbrl_period:\n",
    "        ws_period = wb_xbrl[sheet]\n",
    "        cell_period = df_matrica.loc[sheet, 'cell_period']\n",
    "        ws_period[cell_period].value = period_begin + ', ' + period_end\n",
    "        "
   ],
   "metadata": {
    "collapsed": false,
    "pycharm": {
     "name": "#%%\n",
     "is_executing": false
    }
   }
  },
  {
   "cell_type": "code",
   "execution_count": 44,
   "outputs": [],
   "source": [
    "def copy_pai (id_fond, wb_xbrl, df_avancor, df_id):\n",
    "    \"\"\" Копируем количество паев с нужной точностью\"\"\"\n",
    "    \n",
    "    # Точность указания кол-ва паев\n",
    "    df_id_ws = df_id['ПИФ']\n",
    "    fix = df_id_ws[df_id_ws[0] == id_fond ][3].values[0]\n",
    "    \n",
    "    # записываем в форму \n",
    "    ws_pai = wb_xbrl['0420502 Справка о стоимости _13']\n",
    "    today_row, today_col = coordinate('I144')\n",
    "    previous_row, previous_col = coordinate('K144')\n",
    "    \n",
    "    today = toFixed(df_avancor.loc[today_row, today_col], digits=fix)\n",
    "    previous = toFixed (df_avancor.loc [previous_row, previous_col], digits=fix) \n",
    "    \n",
    "    ws_pai.cell(10,3).value = today\n",
    "    ws_pai.cell(10,4).value = previous\n",
    "       "
   ],
   "metadata": {
    "collapsed": false,
    "pycharm": {
     "name": "#%%\n",
     "is_executing": false
    }
   }
  },
  {
   "cell_type": "code",
   "execution_count": 45,
   "outputs": [],
   "source": [
    "def write_errors ():\n",
    "    \"\"\" Записываем ошибки в файл\"\"\"\n",
    "    if not ERRORS:\n",
    "        ERRORS[0] = 'Ошибок не выявлено!'\n",
    "    with open(errors_file, \"w\") as file:\n",
    "        for k in ERRORS:\n",
    "            file.write(str(k) + '\\n\\n')"
   ],
   "metadata": {
    "collapsed": false,
    "pycharm": {
     "name": "#%%\n",
     "is_executing": false
    }
   }
  },
  {
   "cell_type": "code",
   "execution_count": 46,
   "outputs": [],
   "source": [
    "def file_open(df_id):\n",
    "    \"\"\" Выбор файла, созданного Аванкор\"\"\"\n",
    "    \n",
    "    # Список всех идентификаторой фондов\n",
    "    all_id_fond = df_id['ПИФ'][0][1:].to_list()\n",
    "    \n",
    "    # Выбираем файл, сформированный Аванкор\n",
    "    file_open = askopenfilename() # show an \"Open\" dialog box and return the path to the selected file\n",
    "    # Имя файла без пути к нему\n",
    "    file_avancor = os.path.basename(file_open) \n",
    "    # Имя файла без расширения (идентификатор фонда)\n",
    "    id_fond = os.path.splitext(file_avancor)[0]\n",
    "    \n",
    "    # Если в названии файла нет идентификатора, то прерываем программу \n",
    "    if not (id_fond in all_id_fond ):\n",
    "        ERRORS.append(f'{\"=\"*100}\\n'\n",
    "                      f'Файл не сформирован!\\n'\n",
    "                      f'В названии файла: \"{file_avancor}\" неверно указан идентификатор фонда!\\n'\n",
    "                      f'(проверьте название файла)\\n'\n",
    "                      f'{\"=\"*100}')\n",
    "        write_errors ()\n",
    "        sys.exit(\"Ошибка в имени файла!\")\n",
    "    \n",
    "    return file_avancor, id_fond\n"
   ],
   "metadata": {
    "collapsed": false,
    "pycharm": {
     "name": "#%%\n",
     "is_executing": false
    }
   }
  },
  {
   "cell_type": "code",
   "execution_count": 47,
   "outputs": [],
   "source": [
    "############################################################################################"
   ],
   "metadata": {
    "collapsed": false,
    "pycharm": {
     "name": "#%%\n",
     "is_executing": false
    }
   }
  },
  {
   "cell_type": "code",
   "execution_count": 48,
   "outputs": [],
   "source": [
    "# файл с ощибками\n",
    "errors_file = 'errors.txt'\n",
    "ERRORS = []\n",
    "\n",
    "# # Если нет файла, то создаем пустой файл\n",
    "# if not os.path.exists(errors_file):\n",
    "#     with open(errors_file, \"w\") as F1:\n",
    "#         pass\n",
    "#--------------------------------------------\n",
    "# загружаем данные из файла c идентификаторами\n",
    "file_id = r'./Шаблоны/Идентификаторы.xlsx'\n",
    "df_id = pd.read_excel(file_id, sheet_name=None, header=None)"
   ],
   "metadata": {
    "collapsed": false,
    "pycharm": {
     "name": "#%%\n",
     "is_executing": false
    }
   }
  },
  {
   "cell_type": "code",
   "execution_count": 49,
   "outputs": [],
   "source": [
    " # Выбор файла, созданного Аванкор\n",
    "file_avancor, id_fond = file_open(df_id)\n",
    "#--------------------------------------------"
   ],
   "metadata": {
    "collapsed": false,
    "pycharm": {
     "name": "#%%\n",
     "is_executing": false
    }
   }
  },
  {
   "cell_type": "code",
   "execution_count": 50,
   "outputs": [],
   "source": [
    "# добавляем к названию файла ошибок идентификатор фонда\n",
    "errors_file = os.path.splitext(errors_file)[0]   + \" - \" \\\n",
    "              + os.path.splitext(file_avancor)[0] \\\n",
    "              + os.path.splitext(errors_file)[1] \n",
    "#--------------------------------------------"
   ],
   "metadata": {
    "collapsed": false,
    "pycharm": {
     "name": "#%%\n",
     "is_executing": false
    }
   }
  },
  {
   "cell_type": "code",
   "execution_count": 51,
   "outputs": [],
   "source": [
    "# загружвем данные из отчета таблицы Аванкор\n",
    "df_avancor = load_avancor(file_avancor)\n"
   ],
   "metadata": {
    "collapsed": false,
    "pycharm": {
     "name": "#%%\n",
     "is_executing": false
    }
   }
  },
  {
   "cell_type": "code",
   "execution_count": 52,
   "outputs": [
    {
     "name": "stderr",
     "text": [
      "c:\\users\\сотрудник\\yandexdisk-atovanchov\\projects\\excel_02\\venv\\lib\\site-packages\\openpyxl\\worksheet\\_reader.py:296: UserWarning: Data Validation extension is not supported and will be removed\n  warn(msg)\n"
     ],
     "output_type": "stream"
    },
    {
     "name": "stdout",
     "text": [
      "... 0420502 Справка о стоимости _14\n - ОК!\n",
      "... 0420502 Справка о стоимости _15\n - раздел пуст\n... 0420502 Справка о стоимости _16\n - раздел пуст\n... 0420502 Справка о стоимости _17\n - раздел пуст\n... 0420502 Справка о стоимости _18\n - раздел пуст\n... 0420502 Справка о стоимости _19\n - раздел пуст\n... 0420502 Справка о стоимости _20\n - раздел пуст\n... 0420502 Справка о стоимости _21\n - раздел пуст\n... 0420502 Справка о стоимости _22\n - раздел пуст\n... 0420502 Справка о стоимости _23\n - раздел пуст\n... 0420502 Справка о стоимости _24\n - ОК!\n",
      "... 0420502 Справка о стоимости _25\n - раздел пуст\n... 0420502 Справка о стоимости _26\n - раздел пуст\n... 0420502 Справка о стоимости _27\n - раздел пуст\n... 0420502 Справка о стоимости _28\n - раздел пуст\n... 0420502 Справка о стоимости _29\n - раздел пуст\n... 0420502 Справка о стоимости _30\n - раздел пуст\n... 0420502 Справка о стоимости _31\n - раздел пуст\n... 0420502 Справка о стоимости _32\n - раздел пуст\n... 0420502 Справка о стоимости _33\n - раздел пуст\n... 0420502 Справка о стоимости _34\n - раздел пуст\n... 0420502 Справка о стоимости _35\n - раздел пуст\n... 0420502 Справка о стоимости _36\n - раздел пуст\n... 0420502 Справка о стоимости _37\n - раздел пуст\n... 0420502 Справка о стоимости _38\n - раздел пуст\n... 0420502 Справка о стоимости _39\n - раздел пуст\n... 0420502 Справка о стоимости _40\n - раздел пуст\n... 0420502 Справка о стоимости _41\n",
      " - ОК!\n",
      "... 0420502 Справка о стоимости _42\n - раздел пуст\n... 0420502 Справка о стоимости _43\n - раздел пуст\n... 0420502 Справка о стоимости _44\n - раздел пуст\n... 0420502 Справка о стоимости _45\n - раздел пуст\n... 0420502 Справка о стоимости _46\n - раздел пуст\n... 0420502 Справка о стоимости _47\n - раздел пуст\n... 0420502 Справка о стоимости _48\n - раздел пуст\n... 0420502 Справка о стоимости _49\n - раздел пуст\n... 0420502 Справка о стоимости _50\n - раздел пуст\n... 0420502 Справка о стоимости _51\n - раздел пуст\n... 0420502 Справка о стоимости _52\n - раздел пуст\n... 0420502 Справка о стоимости _53\n - раздел пуст\n... 0420502 Справка о стоимости _54\n",
      " - раздел пуст\n... 0420502 Справка о стоимости _55\n - ОК!\n",
      "... 0420502 Справка о стоимости _58\n - раздел пуст\n"
     ],
     "output_type": "stream"
    }
   ],
   "source": [
    "# загружвем данные из матрицы\n",
    "df_matrica = load_matrica ()\n",
    "\n",
    "#--------------------------------------------\n",
    "\n",
    "# кол-во строк и столбцов в файле Аванкор\n",
    "index_max = df_avancor.shape[0]\n",
    "collumn_max = df_avancor.shape[1]\n",
    "#df_avancor.head(3)\n",
    "#--------------------------------------------\n",
    "# # Определяем идентификатор фонда их имени файла Аванкор\n",
    "# id_fond = file_avancor.split('.')[0]\n",
    "#--------------------------------------------\n",
    "# название нового файла-отчетности xbrl\n",
    "file_fond_name = asksaveasfilename()\n",
    "# Добавляем расширение файла\n",
    "file_fond_name = file_fond_name + '.xlsx'\n",
    "# отбрасываем путь к файлу\n",
    "file_fond = os.path.basename(file_fond_name)\n",
    "# file_fond = id_fond + '.xlsx'\n",
    "\n",
    "#--------------------------------------------\n",
    "# название файла-шаблона\n",
    "file_shablon = '0420502(шаблон)(new).xlsx'\n",
    "#--------------------------------------------\n",
    "# Создаем новый файл отчетности xbrl из шаблона\n",
    "shutil.copyfile(r'./Шаблоны/'+file_shablon, r'./'+file_fond  )\n",
    "\n",
    "\n",
    "# Загружаем данные из файла таблицы xbrl\n",
    "wb = openpyxl.load_workbook(filename=file_fond) \n",
    "#wb.sheetnames\n",
    "#--------------------------------------------\n",
    "# Записываем во все формы идентификатор фонда\n",
    "copy_id_fond_to_tbl (wb, id_fond)\n",
    "#--------------------------------------------    \n",
    "\n",
    "# Копируем данные расшифровки\n",
    "# Выбираем формы: поясн.записки и расшифровки разделов\n",
    "sheet_2_decryption_names = wb.sheetnames[19:]\n",
    "sheet_2_decryption_names.remove('0420502 Справка о стоимости _56')\n",
    "sheet_2_decryption_names.remove('0420502 Справка о стоимости _57')\n",
    "sheet_2_decryption_names.remove('_dropDownSheet')\n",
    "\n",
    "form_null = [] # список пустых форм\n",
    "for form in sheet_2_decryption_names:\n",
    "    print (f'... {form}')\n",
    "  \n",
    "    ws = wb[form]\n",
    "    \n",
    "    # Размер шапки таблицы таблицы XBRL\n",
    "    row_size, col_size = tabl_1_size(ws)\n",
    "    \n",
    "    # находим, используя матрицу, раздел в файле Аванкор, соответствующий выбранной форме \n",
    "    title_1_name = df_matrica.loc[form,'sheet_1_title']\n",
    "    \n",
    "    # Номер строки с названием раздела в файле Аванкор\"\"\"           \n",
    "    title_row = razdel_name_row (df_avancor, title_1_name, index_max)\n",
    "        \n",
    "    # находим номер первой строку с данными в файле Аванкор\n",
    "    data_row = start_data_row (df_avancor, index_max, title_row)\n",
    "    \n",
    "    # находим номер последнке строки с данными в таблице Аванкор\"\"\"\n",
    "    row_end = end_data_row (df_avancor, index_max, data_row)\n",
    "    \n",
    "    \n",
    "    if data_row != row_end:\n",
    "        # список всех номеров строк в таблице Аванкор\n",
    "        rows_numbers = [x for x in range (data_row,row_end + 1)]   \n",
    "    else:\n",
    "        # если номера первой и последней строки совпадают, то Раздел пуст и\n",
    "        # запоминаем название вкладки\n",
    "        form_null.append (form)\n",
    "        # переходим к поиску следующего раздела\n",
    "        continue\n",
    "   \n",
    "    # цифра в последней колонке и номер строки с идектификаторами в таблице XBRL\n",
    "    # (количество колонок для копирования)\n",
    "    max_number, id_row = end_col_number (ws, col_size)\n",
    "    \n",
    "    # Вставить нужное кол-во строк перед строкой \"Итого\"\n",
    "    ws.insert_rows(row_size, amount= (len (rows_numbers) - 1))\n",
    "    \n",
    "    # координаты первой ячейки в таблице XBRL\n",
    "    col_begin, row_begin = begin_cell (ws, col_size, max_number)\n",
    "    \n",
    "    # номера колонок с иденитификаторами в таблице XBRL\n",
    "    id_cols = id_nombers (col_begin)\n",
    "           \n",
    "    # Номера колонок в таблице Аванкор, за исключением пустых\"\"\"\n",
    "    columns_numbers = find_columns_numbers(df_avancor, collumn_max, max_number, data_row )\n",
    "    \n",
    "    # Копирование данных из таблицы Аванков в таблицу XBRL \n",
    "    copy_data (ws, df_avancor, rows_numbers, columns_numbers, row_begin, col_begin)                        \n",
    "    \n",
    "    # Копирование идентификаторов\n",
    "    # Находим и вставляем идентификаторы в ячейки\n",
    "    insert_id (ws, id_row, id_cols, df_id, rows_numbers, row_begin, col_begin, id_fond )\n",
    "    \n",
    "    print (f' - ОК!')\n",
    "    \n",
    "    # Сохраняем в файл отчетности xbrl\n",
    "    wb.save(file_fond)"
   ],
   "metadata": {
    "collapsed": false,
    "pycharm": {
     "name": "#%%\n",
     "is_executing": false
    }
   }
  },
  {
   "cell_type": "code",
   "execution_count": 53,
   "outputs": [
    {
     "name": "stdout",
     "text": [
      "0420502 Справка о стоимости чис\nРаздел I. Реквизиты акционерного инвестиционного фонда (паевого инвестиционного фонда) [1, 5, 7, 11, 13]\n0420502 Справка о стоимости ч_2\nРаздел II. Параметры справки о стоимости чистых активов [1, 5, 7]\n0420502 Справка о стоимости ч_3\nПодраздел 1. Денежные средства [9, 11, 13, 15]\n0420502 Справка о стоимости ч_4\nПодраздел 4. Недвижимое имущество и права аренды недвижимого имущества [9, 11, 13, 15]\n0420502 Справка о стоимости ч_5\nПодраздел 2. Ценные бумаги российских эмитентов (за исключением закладных) [9, 11, 13, 15]\n0420502 Справка о стоимости ч_6\nПодраздел 3. Ценные бумаги иностранных эмитентов [9, 11, 13, 15]\n0420502 Справка о стоимости ч_7\nПодраздел 5. Имущественные права (за исключением прав аренды недвижимого имущества, прав из кредитных договоров и договоров займа и прав требования к кредитной организации выплатить денежный эквивалент драгоценных металлов) [9, 11, 13, 15]\n0420502 Справка о стоимости ч_8\nПодраздел 6. Денежные требования по кредитным договорам и договорам займа, в том числе удостоверенные закладными [9, 11, 13, 15]\n0420502 Справка о стоимости ч_9\nПодраздел 7. Иное имущество, не указанное в подразделах 1-6 [9, 11, 13, 15]\n0420502 Справка о стоимости _10\nПодраздел 8. Дебиторская задолженность [9, 11, 13, 15]\n0420502 Справка о стоимости _11\nПодраздел 9. Общая стоимость активов [9, 11, 13]\n0420502 Справка о стоимости _12\nРаздел IV. Обязательства [9, 11, 13, 15]\n0420502 Справка о стоимости _13\nРаздел V. Стоимость чистых активов [9, 11]\n"
     ],
     "output_type": "stream"
    }
   ],
   "source": [
    "# Копируем итоговые данные\n",
    "sheet_2_itigi = wb.sheetnames[6:19]\n",
    "\n",
    "for form in sheet_2_itigi:\n",
    "       \n",
    "    print (form)\n",
    "    # находим, используя матрицу, раздел в файле Аванкор, соответствующий выбранной форме \n",
    "    title_1_name = df_matrica.loc[form,'sheet_1_title']\n",
    "    \n",
    "    # координаты первой ячейки с данными в таблице Аванкор\n",
    "    cell_start = df_matrica.loc[form,'cell1']    \n",
    "    cell_start_row, cell_start_col = coordinate(cell_start)\n",
    "    \n",
    "    # координаты последней ячейки с данными в таблице Аванкор\n",
    "    cell_end = df_matrica.loc[form,'cell_end']\n",
    "    cell_end_row, cell_end_col = coordinate(cell_end)\n",
    "        \n",
    "    # (количество колонок для копирования) в таблице Аванкор\n",
    "    max_number = df_matrica.loc[form,'tbl_col']\n",
    "      \n",
    "    # Номера колонок в таблице Аванкор, за исключением пустых\n",
    "    columns_numbers = find_columns_numbers(df_avancor, cell_end_col, max_number, cell_start_row, data_col = cell_start_col)\n",
    "    print (title_1_name, columns_numbers)\n",
    "    \n",
    "    # список всех номеров строк в таблице Аванкор\n",
    "    rows_numbers = [x for x in range (cell_start_row,cell_end_row + 1)] \n",
    "    \n",
    "    ws = wb[form]\n",
    "    qq = ws.max_column\n",
    "    # координаты первой ячейки в таблице xbrl\n",
    "    col_begin, row_begin = begin_cell (ws, ws.max_column, max_number)\n",
    "    \n",
    "    # Копирование данных из таблицы Аванков в таблицу XBRL \n",
    "    copy_data (ws, df_avancor, rows_numbers, columns_numbers, row_begin, col_begin)\n",
    "\n"
   ],
   "metadata": {
    "collapsed": false,
    "pycharm": {
     "name": "#%%\n",
     "is_executing": false
    }
   }
  },
  {
   "cell_type": "code",
   "execution_count": 54,
   "outputs": [
    {
     "name": "stdout",
     "text": [
      "... 0420502 Пояснительная записка к\n - раздел пуст\n... 0420502 Пояснительная записка_2\nСведения о событиях, которые оказали существенное влияние на стоимость чистых активов акционерного инвестиционного фонда или чистых активов паевого инвестиционного фонда [3]\n... 0420502 Пояснительная записка_3\n - раздел пуст\n... 0420502 Пояснительная записка_4\n - раздел пуст\n... 0420502 Пояснительная записка_6\n - раздел пуст\n"
     ],
     "output_type": "stream"
    }
   ],
   "source": [
    "# Копируем данные из пояснительных записок\n",
    "sheet_2_zapiski_names = wb.sheetnames[:6]\n",
    "# удаляем лишнюю форму (этой формы нет в Аванкоре)\n",
    "sheet_2_zapiski_names.remove('0420502 Пояснительная записка_5')\n",
    "\n",
    "\n",
    "form_zapiski_null = [] # список пустых форм\n",
    "for form in sheet_2_zapiski_names:\n",
    "    print (f'... {form}')\n",
    "  \n",
    "    ws = wb[form]\n",
    "    \n",
    "    # Размер шапки таблицы таблицы XBRL\n",
    "    row_size, col_size = tabl_1_size(ws)\n",
    "    \n",
    "    # находим, используя матрицу, раздел в файле Аванкор, соответствующий выбранной форме \n",
    "    title_1_name = df_matrica.loc[form,'sheet_1_title']\n",
    "    \n",
    "    # Номер строки с названием раздела в файле Аванкор\"\"\"           \n",
    "    title_row = razdel_name_row (df_avancor, title_1_name, index_max)\n",
    "        \n",
    "    # находим номер первой строку с данными в файле Аванкор\n",
    "    data_row = start_data_row (df_avancor, index_max, title_row)\n",
    "    \n",
    "    # находим номер последней строки с данными в таблице Аванкор\"\"\"\n",
    "    row_end = end_data_row (df_avancor, index_max, data_row)\n",
    "    \n",
    "    \n",
    "    if df_avancor.loc[row_end - 1, 3] != '2': \n",
    "        # список всех номеров строк в таблице Аванкор\n",
    "        rows_numbers = [x for x in range (data_row,row_end)]   \n",
    "    else:        \n",
    "        # Если в соседней ячейки(колонка \"C\") == \"2\", то это заголовок таблицы и следовательно форма пустая\n",
    "        # запоминаем название вкладки\n",
    "        form_zapiski_null.append (form)\n",
    "        # переходим к поиску следующего раздела\n",
    "        continue\n",
    "    \n",
    "    # цифра в последней колонке и номер строки с идектификаторами в таблице XBRL\n",
    "    # (количество колонок для копирования)\n",
    "    max_number = df_matrica.loc[form, 'tbl_col']\n",
    "    # max_number, id_row = end_col_number (ws, col_size)\n",
    "    \n",
    "    # координаты первой ячейки в таблице XBRL\n",
    "    cell_start = df_matrica.loc[form,'cell2']    \n",
    "    cell_start_row, cell_start_col = coordinate(cell_start)\n",
    "    \n",
    "    # Номера колонок в таблице Аванкор, за исключением пустых\n",
    "    columns_numbers = find_columns_numbers(df_avancor, collumn_max, max_number, data_row, data_col = 3)\n",
    "    print (title_1_name, columns_numbers)\n",
    "    \n",
    "    # Копирование данных из таблицы Аванков в таблицу XBRL \n",
    "    copy_data (ws, df_avancor, rows_numbers, columns_numbers, cell_start_row, cell_start_col)  \n",
    "    ERRORS.append (f'\"{ws.title}\" - вставьте \"Идентификатор строки\"')"
   ],
   "metadata": {
    "collapsed": false,
    "pycharm": {
     "name": "#%%\n",
     "is_executing": false
    }
   }
  },
  {
   "cell_type": "code",
   "execution_count": 55,
   "outputs": [
    {
     "name": "stdout",
     "text": [
      "А.Я.Тованчов\nГ.Н.Панкратова\n"
     ],
     "output_type": "stream"
    }
   ],
   "source": [
    "# Ручная корректировка\n",
    "\n",
    "# меняем значения ячеек, т.к. в таблице xbrl ячейки расположены в другом порядке\n",
    "ws_change = wb['0420502 Справка о стоимости чис']    \n",
    "\n",
    "ws_change.cell(10,5).value, ws_change.cell(10,6).value =\\\n",
    "ws_change.cell(10,6).value, ws_change.cell(10,5).value       \n",
    "\n",
    "ws_change.cell(10,5).value, ws_change.cell(10,7).value =\\\n",
    "ws_change.cell(10,7).value, ws_change.cell(10,5).value   \n",
    "\n",
    "# записываем в форму идентификатор фонда\n",
    "ws_id = wb['0420502 Справка о стоимости _57']\n",
    "ws_id.cell(8,1).value = id_fond\n",
    "\n",
    "# записываем в форму идентификаторы: фонда и УК\n",
    "ws_id = wb['0420502 Справка о стоимости чис']\n",
    "ws_id.cell(10,1).value = id_fond\n",
    "ws_id.cell(10,2).value = df_id['УК АИФ ПИФ'].loc[1,0]\n",
    "\n",
    "\n",
    "# ФИО подписанта СпецДепа из файла идентификаторов\n",
    "# df_id_ws = df_id['ПИФ']\n",
    "# fio = df_id_ws[df_id_ws[0] == id_fond ][2].values[0]\n",
    "\n",
    "# Записываем в форму ФИО подписантов\n",
    "copy_fio(wb, df_matrica, df_avancor)\n",
    "\n",
    "# Вставляем данные о периоде отчетности\n",
    "copy_period (wb, df_avancor, df_matrica)\n",
    "\n",
    "# Копируем кол-во паев с заданной точностью\n",
    "copy_pai (id_fond, wb, df_avancor, df_id)"
   ],
   "metadata": {
    "collapsed": false,
    "pycharm": {
     "name": "#%%\n",
     "is_executing": false
    }
   }
  },
  {
   "cell_type": "code",
   "execution_count": 56,
   "outputs": [],
   "source": [
    "# удаляем пустые формы\n",
    "for name in (form_null + form_zapiski_null): \n",
    "    wb.remove(wb[name])\n",
    "wb.remove(wb['0420502 Пояснительная записка_5'])"
   ],
   "metadata": {
    "collapsed": false,
    "pycharm": {
     "name": "#%%\n",
     "is_executing": false
    }
   }
  },
  {
   "cell_type": "code",
   "execution_count": 57,
   "outputs": [
    {
     "name": "stdout",
     "text": [
      "-------------------ГОТОВО!!!----------------------\n"
     ],
     "output_type": "stream"
    }
   ],
   "source": [
    "# Сохраняем в файл отчетности xbrl\n",
    "try: \n",
    "    # os.chdir (os.path.dirname (file_fond_name))\n",
    "    wb.save(file_fond)\n",
    "    print('-------------------ГОТОВО!!!----------------------')\n",
    "    \n",
    "    messagebox.showinfo(\"Конвертер\", \"Файл создан!\")\n",
    "    \n",
    "    \n",
    "    \n",
    "except PermissionError:\n",
    "    ERRORS.append(f'{\"=\"*100}\\n'\n",
    "                  f'!!!ФАЙЛ НЕ СОЗДАН!!! \\n'\n",
    "                  f'ОШИБКА ДОСТУПА К ФАЙЛУ '\n",
    "                  f'(файл открыт в другой программе - закройте файл!)\\n'\n",
    "                  f'{\"=\"*100} ')"
   ],
   "metadata": {
    "collapsed": false,
    "pycharm": {
     "name": "#%%\n",
     "is_executing": false
    }
   }
  },
  {
   "cell_type": "code",
   "execution_count": 58,
   "outputs": [],
   "source": [
    "# Записываем ошибки\n",
    "write_errors ()\n",
    "    "
   ],
   "metadata": {
    "collapsed": false,
    "pycharm": {
     "name": "#%%\n",
     "is_executing": false
    }
   }
  },
  {
   "cell_type": "code",
   "execution_count": 59,
   "outputs": [],
   "source": [
    "#\n",
    "# from importlib import reload\n",
    "# import Modules.analiz_data\n",
    "# reload(Modules.analiz_data)\n",
    "# from Modules.analiz_data import *\n",
    "\n",
    "# import sys\n",
    "# from .application.app.Modules.analiz_data import *\n"
   ],
   "metadata": {
    "collapsed": false,
    "pycharm": {
     "name": "#%%\n",
     "is_executing": false
    }
   }
  },
  {
   "cell_type": "code",
   "execution_count": 60,
   "outputs": [],
   "source": [
    "# ошибка - \"Не установлена\""
   ],
   "metadata": {
    "collapsed": false,
    "pycharm": {
     "name": "#%%\n",
     "is_executing": false
    }
   }
  },
  {
   "cell_type": "code",
   "execution_count": 60,
   "outputs": [],
   "source": [],
   "metadata": {
    "collapsed": false,
    "pycharm": {
     "name": "#%%\n",
     "is_executing": false
    }
   }
  },
  {
   "cell_type": "code",
   "execution_count": 60,
   "outputs": [],
   "source": [
    "\n"
   ],
   "metadata": {
    "collapsed": false,
    "pycharm": {
     "name": "#%%\n",
     "is_executing": false
    }
   }
  }
 ],
 "metadata": {
  "kernelspec": {
   "display_name": "Python 3",
   "language": "python",
   "name": "python3"
  },
  "language_info": {
   "codemirror_mode": {
    "name": "ipython",
    "version": 2
   },
   "file_extension": ".py",
   "mimetype": "text/x-python",
   "name": "python",
   "nbconvert_exporter": "python",
   "pygments_lexer": "ipython2",
   "version": "2.7.6"
  },
  "pycharm": {
   "stem_cell": {
    "cell_type": "raw",
    "source": [],
    "metadata": {
     "collapsed": false
    }
   }
  }
 },
 "nbformat": 4,
 "nbformat_minor": 0
}